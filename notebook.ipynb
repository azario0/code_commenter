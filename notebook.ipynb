{
 "cells": [
  {
   "cell_type": "code",
   "execution_count": null,
   "id": "016a1bf6",
   "metadata": {},
   "outputs": [
    {
     "name": "stderr",
     "output_type": "stream",
     "text": [
      "/home/azar/.local/lib/python3.12/site-packages/tqdm/auto.py:21: TqdmWarning: IProgress not found. Please update jupyter and ipywidgets. See https://ipywidgets.readthedocs.io/en/stable/user_install.html\n",
      "  from .autonotebook import tqdm as notebook_tqdm\n"
     ]
    }
   ],
   "source": [
    "import google.generativeai as genai\n",
    "\n",
    "genai.configure(api_key='GEMINI_API_KEY') # Configure with your API key\n",
    "model = genai.GenerativeModel('gemini-1.5-flash') # Initialize a model, e.g., 'gemini-pro'"
   ]
  },
  {
   "cell_type": "code",
   "execution_count": 3,
   "id": "792c9a0b",
   "metadata": {},
   "outputs": [],
   "source": [
    "user_input = \"\"\"\n",
    "print('hello world')\n",
    "\n",
    "\n",
    "for i in range(10):\n",
    "    for j in range(i):\n",
    "        print(\"*\",end='')\n",
    "    print('')\n",
    "\n",
    "  \n",
    "\"\"\"\n"
   ]
  },
  {
   "cell_type": "code",
   "execution_count": 4,
   "id": "863ad07e",
   "metadata": {},
   "outputs": [],
   "source": [
    "final_prompt = f\"\"\"\n",
    "You are a professional code reviewer and documentation expert. \n",
    "Your task is to take the provided code and add clear, concise, and professional comments \n",
    "that explain the logic, purpose, and functionality of the code.\n",
    "\n",
    "Requirements:\n",
    "1. Return the original code exactly as given, but with added comments in the appropriate places.\n",
    "2. Do not modify variable names, function names, or the structure of the code.\n",
    "3. Make comments helpful for a reader who is learning or maintaining the code.\n",
    "4. Return the result strictly as a JSON object with the following format:\n",
    "\n",
    "{{\n",
    "  \"code_with_comments\": \"...\",   # The full code with comments included\n",
    "  \"extension\": \"...\"             # The file extension of the code (e.g., .py for Python, .js for JavaScript, .cpp for C++)\n",
    "}}\n",
    "\n",
    "Here is the code you must work on:\n",
    "{user_input}\n",
    "\"\"\"\n"
   ]
  },
  {
   "cell_type": "code",
   "execution_count": 6,
   "id": "555a85e7",
   "metadata": {},
   "outputs": [
    {
     "name": "stdout",
     "output_type": "stream",
     "text": [
      "```json\n",
      "{\n",
      "  \"code_with_comments\": \"```python\\n# This program first prints a greeting to the console.\\nprint('hello world')\\n\\n\\n# This nested loop structure prints a right-angled triangle pattern of asterisks to the console.\\n# The outer loop iterates 10 times, controlling the number of rows in the triangle.\\n# The inner loop iterates from 0 up to the current value of the outer loop variable (i), \\n# printing an asterisk for each iteration. This ensures that each row has one more asterisk than the previous row.\\n# \\\\n is added to move the cursor to next line after each row's print\\nfor i in range(10):\\n    for j in range(i):\\n        print(\\\"*\\\",end='')\\n    print('')\\n\\n  \\n```\",\n",
      "  \"extension\": \".py\"\n",
      "}\n",
      "```\n",
      "\n"
     ]
    }
   ],
   "source": [
    "response = model.generate_content(final_prompt)\n",
    "print(response.text)"
   ]
  },
  {
   "cell_type": "code",
   "execution_count": 9,
   "id": "ea5693bb",
   "metadata": {},
   "outputs": [
    {
     "name": "stdout",
     "output_type": "stream",
     "text": [
      "{'code_with_comments': '# This program first prints a greeting to the console.\\nprint(\\'hello world\\')\\n\\n\\n# This nested loop structure prints a right-angled triangle pattern of asterisks to the console.\\n# The outer loop iterates 10 times, controlling the number of rows in the triangle.\\n# The inner loop iterates from 0 up to the current value of the outer loop variable (i), \\n# printing an asterisk for each iteration. This ensures that each row has one more asterisk than the previous row.\\n# \\\\n is added to move the cursor to next line after each row\\'s print\\nfor i in range(10):\\n    for j in range(i):\\n        print(\"*\",end=\\'\\')\\n    print(\\'\\')', 'extension': '.py'}\n"
     ]
    }
   ],
   "source": [
    "import json\n",
    "import re\n",
    "\n",
    "def clean_code_json(response: str) -> dict:\n",
    "    \"\"\"\n",
    "    Cleans a JSON-like response that may include markdown code fences and invalid characters.\n",
    "    Returns a valid Python dictionary.\n",
    "    \"\"\"\n",
    "    # Step 1: Remove BOM or weird hidden characters\n",
    "    response = response.strip().lstrip(\"\\ufeff\").strip()\n",
    "    \n",
    "    # Step 2: Extract JSON between first { and last }\n",
    "    match = re.search(r\"\\{.*\\}\", response, re.DOTALL)\n",
    "    if not match:\n",
    "        raise ValueError(\"No valid JSON object found in response\")\n",
    "    json_str = match.group(0)\n",
    "    \n",
    "    # Step 3: Parse JSON safely\n",
    "    data = json.loads(json_str)\n",
    "    \n",
    "    # Step 4: Clean code fences from code_with_comments\n",
    "    code = data.get(\"code_with_comments\", \"\")\n",
    "    code = re.sub(r\"^```[a-zA-Z]*\\n?\", \"\", code)   # remove ```python\n",
    "    code = re.sub(r\"\\n?```$\", \"\", code)           # remove ending ```\n",
    "    data[\"code_with_comments\"] = code.strip()\n",
    "    \n",
    "    return data\n",
    "\n",
    "\n",
    "\n",
    "cleaned = clean_code_json(response.text)\n",
    "print(cleaned)\n"
   ]
  },
  {
   "cell_type": "code",
   "execution_count": 11,
   "id": "90217da4",
   "metadata": {},
   "outputs": [
    {
     "name": "stdout",
     "output_type": "stream",
     "text": [
      "# This program first prints a greeting to the console.\n",
      "print('hello world')\n",
      "\n",
      "\n",
      "# This nested loop structure prints a right-angled triangle pattern of asterisks to the console.\n",
      "# The outer loop iterates 10 times, controlling the number of rows in the triangle.\n",
      "# The inner loop iterates from 0 up to the current value of the outer loop variable (i), \n",
      "# printing an asterisk for each iteration. This ensures that each row has one more asterisk than the previous row.\n",
      "# \\n is added to move the cursor to next line after each row's print\n",
      "for i in range(10):\n",
      "    for j in range(i):\n",
      "        print(\"*\",end='')\n",
      "    print('')\n"
     ]
    }
   ],
   "source": [
    "print(cleaned['code_with_comments'])"
   ]
  },
  {
   "cell_type": "markdown",
   "id": "30dcad09",
   "metadata": {},
   "source": [
    "# Save the file for downloads"
   ]
  },
  {
   "cell_type": "code",
   "execution_count": null,
   "id": "59d0166f",
   "metadata": {},
   "outputs": [
    {
     "name": "stdout",
     "output_type": "stream",
     "text": [
      "File saved at: /home/azar/Desktop/tiktok2.0/day4/8/my_script.py\n"
     ]
    }
   ],
   "source": [
    "import os\n",
    "def save_code_file(data: dict, filename: str = \"output\"):\n",
    "    \"\"\"\n",
    "    Saves the code_with_comments into a file in the current folder\n",
    "    using the provided extension.\n",
    "    \n",
    "    Args:\n",
    "        data (dict): Dictionary containing \"code_with_comments\" and \"extension\".\n",
    "        filename (str): Base name for the output file (default: \"output\").\n",
    "    \n",
    "    Returns:\n",
    "        str: Path of the created file.\n",
    "    \"\"\"\n",
    "    if \"code_with_comments\" not in data or \"extension\" not in data:\n",
    "        raise ValueError(\"Data must contain 'code_with_comments' and 'extension' keys.\")\n",
    "    \n",
    "    # Construct file path\n",
    "    ext = data[\"extension\"].strip()\n",
    "    if not ext.startswith(\".\"):\n",
    "        ext = \".\" + ext\n",
    "    filepath = os.path.join(os.getcwd(), filename + ext)\n",
    "    \n",
    "    # Write file\n",
    "    with open(filepath, \"w\", encoding=\"utf-8\") as f:\n",
    "        f.write(data[\"code_with_comments\"])\n",
    "    \n",
    "    return filepath\n",
    "\n",
    "\n",
    "file_path = save_code_file(cleaned, filename=\"my_script\")\n",
    "print(f\"File saved at: {file_path}\")"
   ]
  },
  {
   "cell_type": "code",
   "execution_count": null,
   "id": "edbe1d45",
   "metadata": {},
   "outputs": [],
   "source": []
  }
 ],
 "metadata": {
  "kernelspec": {
   "display_name": "Python 3",
   "language": "python",
   "name": "python3"
  },
  "language_info": {
   "codemirror_mode": {
    "name": "ipython",
    "version": 3
   },
   "file_extension": ".py",
   "mimetype": "text/x-python",
   "name": "python",
   "nbconvert_exporter": "python",
   "pygments_lexer": "ipython3",
   "version": "3.12.3"
  }
 },
 "nbformat": 4,
 "nbformat_minor": 5
}
